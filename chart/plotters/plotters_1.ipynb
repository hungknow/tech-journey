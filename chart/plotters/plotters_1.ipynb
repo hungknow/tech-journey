{
 "cells": [
  {
   "cell_type": "code",
   "execution_count": 4,
   "id": "f6334102",
   "metadata": {},
   "outputs": [
    {
     "data": {
      "text/html": [
       "<div style=\"\"><svg width=\"300\" height=\"100\" viewBox=\"0 0 300 100\" xmlns=\"http://www.w3.org/2000/svg\">\n",
       "<rect x=\"0\" y=\"0\" width=\"300\" height=\"100\" opacity=\"1\" fill=\"#0000FF\" stroke=\"none\"/>\n",
       "</svg>\n",
       "</div>"
      ]
     },
     "execution_count": 4,
     "metadata": {},
     "output_type": "execute_result"
    }
   ],
   "source": [
    ":dep plotters = { version = \"^0.3.0\", default_features = false, features = [\"evcxr\", \"all_series\"] }\n",
    "extern crate plotters;\n",
    "// Import all the plotters prelude functions\n",
    "use plotters::prelude::*;\n",
    "// To create a figure that can be displayed in Jupyter notebook, use evcxr_figure function.\n",
    "// The first param is the resolution of the figure.\n",
    "// The second param is the closure that performes the drawing.\n",
    "evcxr_figure((300, 100), |root| {\n",
    "    // Do the drawings\n",
    "    root.fill(&BLUE)?;\n",
    "    // Tell plotters that everything is ok\n",
    "    Ok(())\n",
    "})"
   ]
  },
  {
   "cell_type": "code",
   "execution_count": null,
   "id": "33c3e57c",
   "metadata": {},
   "outputs": [],
   "source": []
  }
 ],
 "metadata": {
  "kernelspec": {
   "display_name": "Rust",
   "language": "rust",
   "name": "rust"
  },
  "language_info": {
   "codemirror_mode": "rust",
   "file_extension": ".rs",
   "mimetype": "text/rust",
   "name": "Rust",
   "pygment_lexer": "rust",
   "version": ""
  }
 },
 "nbformat": 4,
 "nbformat_minor": 5
}
